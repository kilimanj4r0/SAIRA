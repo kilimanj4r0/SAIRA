{
 "cells": [
  {
   "cell_type": "code",
   "execution_count": 1,
   "metadata": {},
   "outputs": [
    {
     "name": "stderr",
     "output_type": "stream",
     "text": [
      "/Users/artembatalov/miniconda3/envs/cv/lib/python3.10/site-packages/urllib3/connectionpool.py:1061: InsecureRequestWarning: Unverified HTTPS request is being made to host 'campuslife.innopolis.ru'. Adding certificate verification is strongly advised. See: https://urllib3.readthedocs.io/en/1.26.x/advanced-usage.html#ssl-warnings\n",
      "  warnings.warn(\n"
     ]
    }
   ],
   "source": [
    "from bs4 import BeautifulSoup\n",
    "import requests\n",
    "import markdownify\n",
    "\n",
    "handbook = requests.get(\"https://campuslife.innopolis.ru/handbook2023\", verify=False, headers={'User-Agent': 'Mozilla/5.0 (Macintosh; Intel Mac OS X 10_15_7) AppleWebKit/605.1.15 (KHTML, like Gecko) Version/17.0 Safari/605.1.15'})\n"
   ]
  },
  {
   "cell_type": "code",
   "execution_count": 2,
   "metadata": {},
   "outputs": [],
   "source": [
    "soup = BeautifulSoup(handbook.text, 'html.parser')"
   ]
  },
  {
   "cell_type": "code",
   "execution_count": 3,
   "metadata": {},
   "outputs": [
    {
     "name": "stdout",
     "output_type": "stream",
     "text": [
      "-----------------\n",
      "-----------------\n",
      "-----------------\n",
      "-----------------\n",
      "-----------------\n",
      "-----------------\n",
      "-----------------\n",
      "-----------------\n",
      "-----------------\n",
      "-----------------\n",
      "-----------------\n",
      "-----------------\n"
     ]
    }
   ],
   "source": [
    "i = 1\n",
    "file = '1. none.md'\n",
    "file_cont = ''\n",
    "\n",
    "for div in soup.select('.t-container'):\n",
    "\n",
    "    if div.select('.t-title_xxl'):\n",
    "        print(\"-----------------\")\n",
    "        with open(file, 'w') as f:\n",
    "            f.write(file_cont)\n",
    "        i+=1\n",
    "        file = f\"{i}. {div.select('.t-title_xxl')[0].text or None}.md\"\n",
    "        file_cont = '# '\n",
    "    \n",
    "    file_cont += markdownify.markdownify(str(div), strip=[\"img\"]) + '\\n'\n"
   ]
  },
  {
   "cell_type": "code",
   "execution_count": 9,
   "metadata": {},
   "outputs": [],
   "source": [
    "faq = requests.get(\"http://campuslife.innopolis.ru/faq\", verify=False, headers={'User-Agent': 'Mozilla/5.0 (Macintosh; Intel Mac OS X 10_15_7) AppleWebKit/605.1.15 (KHTML, like Gecko) Version/17.0 Safari/605.1.15'})\n",
    "soup = BeautifulSoup(faq.text, 'html.parser')"
   ]
  },
  {
   "cell_type": "code",
   "execution_count": 42,
   "metadata": {},
   "outputs": [],
   "source": [
    "sections = {\n",
    "    \"Academic\": soup.select('#rec60248171')[0],\n",
    "    \"Admin\": soup.select('#rec470720538')[0],\n",
    "    \"Extracurricular\": soup.select('#rec60466048')[0],\n",
    "    \"Household\": soup.select('#rec470727346')[0],\n",
    "}"
   ]
  },
  {
   "cell_type": "code",
   "execution_count": 43,
   "metadata": {},
   "outputs": [],
   "source": [
    "for s_name, s in sections.items():\n",
    "    qs = s.select(\".t-col .t-name\")\n",
    "    ans = s.select(\".t-col .t-descr\")\n",
    "\n",
    "    file_cont = ''\n",
    "    for q,a in zip(qs, ans):\n",
    "        file_cont += f\"## {q.text}\\n{markdownify.markdownify(str(a), strip=['img'])}\\n\\n\"\n",
    "\n",
    "    with open(f'{s_name}.md', 'w') as f:\n",
    "        f.write(file_cont)"
   ]
  },
  {
   "cell_type": "code",
   "execution_count": 45,
   "metadata": {},
   "outputs": [
    {
     "name": "stderr",
     "output_type": "stream",
     "text": [
      "/Users/artembatalov/miniconda3/envs/cv/lib/python3.10/site-packages/urllib3/connectionpool.py:1061: InsecureRequestWarning: Unverified HTTPS request is being made to host 'campuslife.innopolis.ru'. Adding certificate verification is strongly advised. See: https://urllib3.readthedocs.io/en/1.26.x/advanced-usage.html#ssl-warnings\n",
      "  warnings.warn(\n"
     ]
    }
   ],
   "source": [
    "clubs = requests.get(\"https://campuslife.innopolis.ru/clubs\", verify=False, headers={'User-Agent': 'Mozilla/5.0 (Macintosh; Intel Mac OS X 10_15_7) AppleWebKit/605.1.15 (KHTML, like Gecko) Version/17.0 Safari/605.1.15'})\n",
    "soup = BeautifulSoup(clubs.text, 'html.parser')"
   ]
  },
  {
   "cell_type": "code",
   "execution_count": 52,
   "metadata": {},
   "outputs": [],
   "source": [
    "clubs_info = soup.select('#rec60439162 .t-container')[0]"
   ]
  },
  {
   "cell_type": "code",
   "execution_count": 54,
   "metadata": {},
   "outputs": [],
   "source": [
    "\n",
    "with open(f'clubs.md', 'w') as f:\n",
    "    f.write(markdownify.markdownify(str(clubs_info), strip=[\"img\"]))"
   ]
  },
  {
   "cell_type": "code",
   "execution_count": 98,
   "metadata": {},
   "outputs": [],
   "source": [
    "clubs_pages = {\n",
    "    \"Tech clubs\": \"https://campuslife.innopolis.ru/tech_clubs\",\n",
    "    \"Sport clubs\": \"https://campuslife.innopolis.ru/sport_clubs\",\n",
    "    \"Special interest clubs\": \"https://campuslife.innopolis.ru/hobby_clubs\",\n",
    "    \"Art clubs\": \"https://campuslife.innopolis.ru/art_clubs\",\n",
    "}"
   ]
  },
  {
   "cell_type": "code",
   "execution_count": 101,
   "metadata": {},
   "outputs": [
    {
     "name": "stderr",
     "output_type": "stream",
     "text": [
      "/Users/artembatalov/miniconda3/envs/cv/lib/python3.10/site-packages/urllib3/connectionpool.py:1061: InsecureRequestWarning: Unverified HTTPS request is being made to host 'campuslife.innopolis.ru'. Adding certificate verification is strongly advised. See: https://urllib3.readthedocs.io/en/1.26.x/advanced-usage.html#ssl-warnings\n",
      "  warnings.warn(\n",
      "/Users/artembatalov/miniconda3/envs/cv/lib/python3.10/site-packages/urllib3/connectionpool.py:1061: InsecureRequestWarning: Unverified HTTPS request is being made to host 'campuslife.innopolis.ru'. Adding certificate verification is strongly advised. See: https://urllib3.readthedocs.io/en/1.26.x/advanced-usage.html#ssl-warnings\n",
      "  warnings.warn(\n",
      "/Users/artembatalov/miniconda3/envs/cv/lib/python3.10/site-packages/urllib3/connectionpool.py:1061: InsecureRequestWarning: Unverified HTTPS request is being made to host 'campuslife.innopolis.ru'. Adding certificate verification is strongly advised. See: https://urllib3.readthedocs.io/en/1.26.x/advanced-usage.html#ssl-warnings\n",
      "  warnings.warn(\n",
      "/Users/artembatalov/miniconda3/envs/cv/lib/python3.10/site-packages/urllib3/connectionpool.py:1061: InsecureRequestWarning: Unverified HTTPS request is being made to host 'campuslife.innopolis.ru'. Adding certificate verification is strongly advised. See: https://urllib3.readthedocs.io/en/1.26.x/advanced-usage.html#ssl-warnings\n",
      "  warnings.warn(\n"
     ]
    }
   ],
   "source": [
    "for page_name, page in clubs_pages.items():\n",
    "    tech_clubs = requests.get(page, verify=False, headers={'User-Agent': 'Mozilla/5.0 (Macintosh; Intel Mac OS X 10_15_7) AppleWebKit/605.1.15 (KHTML, like Gecko) Version/17.0 Safari/605.1.15'})\n",
    "    soup = BeautifulSoup(tech_clubs.text, 'html.parser')\n",
    "\n",
    "    clubs = [e.text.strip() for e in soup.select('.t-container .t819__content[data-tab-content-number=\"1\"] .t-heading')]\n",
    "    description = [e.text.strip() for e in soup.select('.t-container .t819__content[data-tab-content-number=\"1\"] .t-text')]\n",
    "    contact = [markdownify.markdownify(str(e), strip=[\"img\"]) for e in soup.select('.t-container .t819__content[data-tab-content-number=\"2\"] .t-heading a')]\n",
    "    tg_chat = [e.get('href') for e in soup.select('.t-container .t819__content[data-tab-content-number=\"2\"] .t819__btn-container a')]\n",
    "\n",
    "    file_cont = f'# {page_name}\\n\\n'\n",
    "    for c,d,co,t in zip(clubs, description, contact, tg_chat):\n",
    "        file_cont += f\"## {c}  \\n{d}  \\nClub leader: {co}  \\nTelegram chat: {t}\\n\\n\"\n",
    "    \n",
    "    with open(f'{page_name}.md', 'w') as f:\n",
    "        f.write(file_cont)"
   ]
  },
  {
   "cell_type": "code",
   "execution_count": 60,
   "metadata": {},
   "outputs": [
    {
     "name": "stderr",
     "output_type": "stream",
     "text": [
      "/Users/artembatalov/miniconda3/envs/cv/lib/python3.10/site-packages/urllib3/connectionpool.py:1061: InsecureRequestWarning: Unverified HTTPS request is being made to host 'campuslife.innopolis.ru'. Adding certificate verification is strongly advised. See: https://urllib3.readthedocs.io/en/1.26.x/advanced-usage.html#ssl-warnings\n",
      "  warnings.warn(\n"
     ]
    }
   ],
   "source": [
    "tech_clubs = requests.get(\"https://campuslife.innopolis.ru/tech_clubs\", verify=False, headers={'User-Agent': 'Mozilla/5.0 (Macintosh; Intel Mac OS X 10_15_7) AppleWebKit/605.1.15 (KHTML, like Gecko) Version/17.0 Safari/605.1.15'})\n",
    "soup = BeautifulSoup(tech_clubs.text, 'html.parser')"
   ]
  },
  {
   "cell_type": "code",
   "execution_count": 66,
   "metadata": {},
   "outputs": [
    {
     "name": "stdout",
     "output_type": "stream",
     "text": [
      "Gamedev Evenings\n",
      "BDSM (Boosting Development in Science and Math)\n",
      "Innopolis Cyber Experts  \n",
      "\n",
      "App Development with Swift  \n",
      "\n",
      "Innopolis Blockchain Club\n",
      "Inno Linux Club  \n",
      "\n",
      "Java Advanced Machines  \n",
      "\n",
      "Artificial Intelligence Club\n",
      "SessionvInno   \n",
      "\n",
      "Data Science Club\n",
      "C# Lords of Innopolis University\n",
      "Project Management Tool Craft Club\n"
     ]
    }
   ],
   "source": [
    "for e in soup.select('.t-container .t819__content[data-tab-content-number=\"1\"] .t-heading'):\n",
    "    print(markdownify.markdownify(str(e), strip=[\"img\"], ))"
   ]
  },
  {
   "cell_type": "code",
   "execution_count": 92,
   "metadata": {},
   "outputs": [],
   "source": [
    "clubs = [e.text.strip() for e in soup.select('.t-container .t819__content[data-tab-content-number=\"1\"] .t-heading')]\n",
    "description = [e.text.strip() for e in soup.select('.t-container .t819__content[data-tab-content-number=\"1\"] .t-text')]\n",
    "contact = [markdownify.markdownify(str(e), strip=[\"img\"]) for e in soup.select('.t-container .t819__content[data-tab-content-number=\"2\"] .t-heading a')]\n",
    "tg_chat = [e.get('href') for e in soup.select('.t-container .t819__content[data-tab-content-number=\"2\"] .t819__btn-container a')]"
   ]
  },
  {
   "cell_type": "code",
   "execution_count": 97,
   "metadata": {},
   "outputs": [
    {
     "name": "stdout",
     "output_type": "stream",
     "text": [
      "## Gamedev Evenings\n",
      "Gamedev Evenings is a fast-growing community of game developers, who are motivated to create amazing indie games! We encourage to join people with any experience, and organize a lot of diverse activities: masterclasses, game meetings, game jams and a lot of other great meetings!\n",
      "Club leader: [Anna Kopeikina](http://t.me/relisqu)\n",
      "Telegram chat: https://t.me/gdevenings\n",
      "\n",
      "\n",
      "## BDSM (Boosting Development in Science and Math)\n",
      "We help fellow bachelors to understand math. We want to provide better learning experience for students and create a world without D's.\n",
      "Club leader: [Ivan Lishchenko](http://t.me/Magel0n)\n",
      "Telegram chat: https://t.me/+7suHj-DOoyg4M2My\n",
      "\n",
      "\n",
      "## Innopolis Cyber Experts\n",
      "ICE is a cybersecurity community, dedicated to obtain practical experience and real world skills. We are actively participating in security related activities and conduct regular meetings to learn & practice.\n",
      "Club leader: [Artur Lukianov](http://t.me/passkeyra)\n",
      "Telegram chat: https://t.me/magnummalum\n",
      "\n",
      "\n",
      "## App Development with Swift\n",
      "We unite creative and talented people to create useful apps. We are diving in a huge world of Apple development, design and process of creating some cool programming projects.\n",
      "Club leader: [Alyona Maksimova](http://t.me/AcoDe113)\n",
      "Telegram chat: https://t.me/+bmiJbhwoVh01ZDEy\n",
      "\n",
      "\n",
      "## Innopolis Blockchain Club\n",
      "Our Club is about blockchain development and decentralized applications. Our aim is to get people acquainted with the groundbreaking technology of distributed ledgers. Eventually, we want to launch a startup in the crypto field. In Crypto We Trust.\n",
      "Club leader: [A](http://t.me/hd_saleh)\n",
      "Telegram chat: https://t.me/joinchat/Jvt7617t7ehhMmRk\n",
      "\n",
      "\n",
      "## Inno Linux Club\n",
      "Members of this club praise the Open-source Software, vim, bash, and study Linux. Join us if you are interested in.\n",
      "Club leader: [Dmitry Alekhine](http://t.me/dmfrpro)\n",
      "Telegram chat: http://t.me/innolinuxclub\n",
      "\n",
      "\n",
      "## Java Advanced Machines\n",
      "Our club is about learning and debating about Java frameworks, utilities, libraries, etc. Our mission is to prepare skilled Java programmers and build community of these programmers. Our goals are to reach at least 30 members of the club and hold a joint event with Bachelor Degenerates Studying Math (BDSM) Club.\n",
      "Club leader: [Leonid Meshcheriakov](http://t.me/leonidmem)\n",
      "Telegram chat: https://t.me/+e75AhCzjCCQ2MTMy\n",
      "\n",
      "\n",
      "## Artificial Intelligence Club\n",
      "We are together to learn different topics of Data Science from basic to advanced as well as do fascinating researches in a collaborative team.\n",
      "Club leader: [Roman Garaev](http://t.me/GRoman20)\n",
      "Telegram chat: https://t.me/dsclub_iu\n",
      "\n",
      "\n",
      "## SessionvInno\n",
      "Club will provide help for students to prepare for tests, exams, home assignments to pull up knowledge of students and make them motivated to study. The club will be closed. We will have several number of tutors who will help students to learn the certain subject.\n",
      "Club leader: [Julia Martynova](http://t.me/passkeyra)\n",
      "Telegram chat: https://t.me/jmartynova\n",
      "\n",
      "\n",
      "## Data Science Club\n",
      "Our club is dedicated to exploring the fascinating world of data science and providing a platform for students who are passionate about this field to come together, learn, and grow.\n",
      "Club leader: [Mostafa Kira](http://t.me/GRoman20)\n",
      "Telegram chat: https://t.me/+yYr0gNLJjKM0MDk0\n",
      "\n",
      "\n",
      "## C# Lords of Innopolis University\n",
      "Learning the C# programming language and developing user applications in it\n",
      "Club leader: [Oleg Shchendrigin](https://t.me/Quartz_Admirer)\n",
      "Telegram chat: https://t.me/+Do2fzCPz8n5kYmVi\n",
      "\n",
      "\n",
      "## Project Management Tool Craft Club\n",
      "We are a club passionate about harnessing the power of project management tools to drive success in every endeavour\n",
      "Club leader: [Blessing Victor](https://t.me/BlessIknow)\n",
      "Telegram chat: https://t.me/+2aaij9mGVM4xNzM8\n",
      "\n",
      "\n"
     ]
    }
   ],
   "source": [
    "for c,d,co,t in zip(clubs, description, contact, tg_chat):\n",
    "    print(f\"## {c}\\n{d}\\nClub leader: {co}\\nTelegram chat: {t}\\n\\n\")"
   ]
  },
  {
   "cell_type": "code",
   "execution_count": null,
   "metadata": {},
   "outputs": [],
   "source": []
  }
 ],
 "metadata": {
  "kernelspec": {
   "display_name": "cv",
   "language": "python",
   "name": "python3"
  },
  "language_info": {
   "codemirror_mode": {
    "name": "ipython",
    "version": 3
   },
   "file_extension": ".py",
   "mimetype": "text/x-python",
   "name": "python",
   "nbconvert_exporter": "python",
   "pygments_lexer": "ipython3",
   "version": "3.10.13"
  }
 },
 "nbformat": 4,
 "nbformat_minor": 2
}
