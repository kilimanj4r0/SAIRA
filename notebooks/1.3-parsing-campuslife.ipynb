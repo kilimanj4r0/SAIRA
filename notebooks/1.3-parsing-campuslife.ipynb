{
 "cells": [
  {
   "cell_type": "code",
   "execution_count": 1,
   "metadata": {},
   "outputs": [
    {
     "name": "stderr",
     "output_type": "stream",
     "text": [
      "/Users/artembatalov/miniconda3/envs/cv/lib/python3.10/site-packages/urllib3/connectionpool.py:1061: InsecureRequestWarning: Unverified HTTPS request is being made to host 'campuslife.innopolis.ru'. Adding certificate verification is strongly advised. See: https://urllib3.readthedocs.io/en/1.26.x/advanced-usage.html#ssl-warnings\n",
      "  warnings.warn(\n"
     ]
    }
   ],
   "source": [
    "from bs4 import BeautifulSoup\n",
    "import requests\n",
    "import markdownify\n",
    "\n",
    "handbook = requests.get(\"https://campuslife.innopolis.ru/handbook2023\", verify=False, headers={'User-Agent': 'Mozilla/5.0 (Macintosh; Intel Mac OS X 10_15_7) AppleWebKit/605.1.15 (KHTML, like Gecko) Version/17.0 Safari/605.1.15'})\n"
   ]
  },
  {
   "cell_type": "code",
   "execution_count": 2,
   "metadata": {},
   "outputs": [],
   "source": [
    "soup = BeautifulSoup(handbook.text, 'html.parser')"
   ]
  },
  {
   "cell_type": "code",
   "execution_count": 3,
   "metadata": {},
   "outputs": [
    {
     "name": "stdout",
     "output_type": "stream",
     "text": [
      "-----------------\n",
      "-----------------\n",
      "-----------------\n",
      "-----------------\n",
      "-----------------\n",
      "-----------------\n",
      "-----------------\n",
      "-----------------\n",
      "-----------------\n",
      "-----------------\n",
      "-----------------\n",
      "-----------------\n"
     ]
    }
   ],
   "source": [
    "i = 1\n",
    "file = '1. none.md'\n",
    "file_cont = ''\n",
    "\n",
    "for div in soup.select('.t-container'):\n",
    "\n",
    "    if div.select('.t-title_xxl'):\n",
    "        print(\"-----------------\")\n",
    "        with open(file, 'w') as f:\n",
    "            f.write(file_cont)\n",
    "        i+=1\n",
    "        file = f\"{i}. {div.select('.t-title_xxl')[0].text or None}.md\"\n",
    "        file_cont = '# '\n",
    "    \n",
    "    file_cont += markdownify.markdownify(str(div), strip=[\"img\"]) + '\\n'\n"
   ]
  },
  {
   "cell_type": "code",
   "execution_count": null,
   "metadata": {},
   "outputs": [],
   "source": []
  }
 ],
 "metadata": {
  "kernelspec": {
   "display_name": "cv",
   "language": "python",
   "name": "python3"
  },
  "language_info": {
   "codemirror_mode": {
    "name": "ipython",
    "version": 3
   },
   "file_extension": ".py",
   "mimetype": "text/x-python",
   "name": "python",
   "nbconvert_exporter": "python",
   "pygments_lexer": "ipython3",
   "version": "3.10.13"
  }
 },
 "nbformat": 4,
 "nbformat_minor": 2
}
