{
 "cells": [
  {
   "cell_type": "markdown",
   "metadata": {},
   "source": [
    "# Parse and structure knowledge"
   ]
  },
  {
   "cell_type": "markdown",
   "metadata": {},
   "source": [
    "The data from the following sources should be collected:\n",
    "\n",
    "1. https://innopolis.university\n",
    "2. https://eduwiki.innopolis.university\n",
    "3. https://campuslife.innopolis.ru \n",
    "4. https://hotel.innopolis.university\n",
    "5. https://sport.innopolis.university\n",
    "6. https://innohassle.ru/schedule\n",
    "\n",
    "And, optionally, plus documents from Student Affairs Office.\n",
    "\n",
    "For convenience, we use tools from LlamaHub collection. "
   ]
  }
 ],
 "metadata": {
  "language_info": {
   "name": "python"
  }
 },
 "nbformat": 4,
 "nbformat_minor": 2
}
