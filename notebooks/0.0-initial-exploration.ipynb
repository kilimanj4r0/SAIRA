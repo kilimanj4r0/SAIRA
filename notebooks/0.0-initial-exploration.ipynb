{
 "cells": [
  {
   "cell_type": "markdown",
   "metadata": {},
   "source": [
    "# Goal\n",
    "\n",
    "We aim to create an intelligent chatbot for the Student Affairs Office of Innopolis University. Powered by a Large Language Model (LLM), it aims to promptly address students' queries about various aspects of student life. We are looking forward to enhance the student experience ensuring swift, efficient, and accurate dissemination of crucial information.\n"
   ]
  },
  {
   "cell_type": "markdown",
   "metadata": {},
   "source": [
    "# Possible solution steps"
   ]
  },
  {
   "cell_type": "markdown",
   "metadata": {},
   "source": [
    "1. Undestand possibilities: do experiments with most popular frameworks to work with knowledge and LLM together, such as [LlamaIndex](https://www.llamaindex.ai/) and [LangChain](https://www.langchain.com/).\n",
    "2. Parse and structure knowledge we have (e.g., using [LlamaHub tools](https://llamahub.ai/) for effeciency). It might be webpages, PDF documents, wikis, etc.\n",
    "3. Experiment with and choose retriever\n",
    "4. Experiment with different LLMs and choose one LLM to work with\n",
    "5. Design prompt to instruct model to answer concisely and fully. In case of uncertainty, instruct the model to answer correspondingly."
   ]
  },
  {
   "cell_type": "markdown",
   "metadata": {},
   "source": [
    "# Demo"
   ]
  },
  {
   "cell_type": "markdown",
   "metadata": {},
   "source": [
    "1. Create a [Streamlit](https://docs.streamlit.io) app with chat to simulate a chatbot\n",
    "2. Optional: record a video to demonstrate a proposed solution"
   ]
  }
 ],
 "metadata": {
  "language_info": {
   "name": "python"
  }
 },
 "nbformat": 4,
 "nbformat_minor": 2
}
